{
 "cells": [
  {
   "attachments": {},
   "cell_type": "markdown",
   "id": "1e9dfdeb",
   "metadata": {},
   "source": [
    "<a href=\"https://colab.research.google.com/github/BMClab/BasesComputacionais/blob/master/FOSS/python.ipynb\" target=\"_parent\"><img src=\"https://colab.research.google.com/assets/colab-badge.svg\" alt=\"Open In Colab\"/></a>"
   ]
  },
  {
   "cell_type": "markdown",
   "id": "3fcd526e",
   "metadata": {},
   "source": [
    "# Evolução Humana: Gênero Homo\n",
    "\n",
    "> Jackeline Freitas Saqueti  (RA 11202231316) e Lívia Martins Andrade (RA 11202212463)        \n",
    "> Matéria: Evolução e Diversificação da Vida na Terra    \n",
    "> Universidade Federal do ABC | Orientador Marcos Duarte\n",
    "\n",
    "---"
   ]
  },
  {
   "cell_type": "markdown",
   "id": "1b1ef617",
   "metadata": {},
   "source": [
    "\n",
    "\n",
    "<h1>Conteúdo<span class=\"tocSkip\"></span></h1>\n",
    "<div class=\"toc\"><ul class=\"toc-item\"><li><span><a href=\"#Objetivo\" data-toc-modified-id=\"Objetivo-1\"><span class=\"toc-item-num\">1&nbsp;&nbsp;</span>Objetivo</a></span></li><li><span><a href=\"#Evolução do gênero Homo\" data-toc-modified-id=\"Evolução-do-gênero-Homo-2\"><span class=\"toc-item-num\">2&nbsp;&nbsp;</span>Evolução do gênero Homo</a></span></li><li><span><a href=\"#Usando-if,-elif-e-else\" data-toc-modified-id=\"Usando-if,-elif-e-else-3\"><span class=\"toc-item-num\">3&nbsp;&nbsp;</span>Usando if, elif e else</a></span></li><li><span><a href=\"#Chamando-funções-para-definir-algumas-características-da-evolução-do-Gênero-Homo\" data-toc-modified-id=\"Chamando-funções-para-definir-algumas-características-da-evolução-do-Gênero-Homo-4\"><span class=\"toc-item-num\">4&nbsp;&nbsp;</span>Chamando-funções-para-definir-algumas-características-da-evolução-do-Gênero-Homo</a></span></li><li><span><a href=\"#Usando-def\" data-toc-modified-id=\"Usando-def-5\"><span class=\"toc-item-num\">5&nbsp;&nbsp;</span>Usando def</a></span></li><li><span><a href=\"#Usando-True-or-False\" data-toc-modified-id=\"Usando-True-or-False-6\"><span class=\"toc-item-num\">6&nbsp;&nbsp;</span>Usando True or False</a></span></li><li><span><a href=\"#Conclusão\" data-toc-modified-id=\"Conclusão-7\"><span class=\"toc-item-num\">7&nbsp;&nbsp;</span>Conclusão</a></span></li><li><span><a href=\"#Referências\" data-toc-modified-id=\"Referências-8\"><span class=\"toc-item-num\">8&nbsp;&nbsp;</span>Referências</a></span></li>"
   ]
  },
  {
   "cell_type": "markdown",
   "id": "d94ea290",
   "metadata": {},
   "source": [
    "## Objetivo\n",
    "\n",
    "> Este projeto tem como objetivo relacionar a matéria Evolução e Diversificação da Vida na Terra com Python. Para isso utilizaremos dos recursos matemáticos estudados nesse curso e conceitos matemáticos relacionados à conjuntos numéricos e potenciação. \n",
    "\n",
    "---"
   ]
  },
  {
   "cell_type": "markdown",
   "id": "54baa1f9",
   "metadata": {},
   "source": [
    "## Evolução do Gênero Homo\n",
    "\n",
    "> A evolução do gênero _homo_ vem ocorrendo há milhões de anos, sendo atualmente descrita da seguinte forma (considerando os antepassados do _homo_) em escala de anos:\n",
    "\n",
    "Entre 4,2 milhões de anos atrás e 3,9 milhões de anos atrás = Australopithecus amensis\n",
    "\n",
    "Entre 3,8 milhões de anos atrás e 3 milhôes de anos atrás = Australopithecus afarensis\n",
    "\n",
    "Entre 2,2 milhões de anos atrás e 1,6 milhões de anos atrás = Homo habilis\n",
    "\n",
    "Entre 2 milhões de anos atrás e 400 mil anos atrás = Homo erectus\n",
    "\n",
    "Entre 400 mil anos atrás e 200 mil anos atrás = Homo Sapiens\n",
    "\n",
    "De 120 mil anos atrás até os dias atuais = Homo Sapien Sapiens\n",
    "\n",
    "[Evolução do Gênero Homo](http://www2.assis.unesp.br/darwinnobrasil/humanev2b.htm)\n",
    "\n",
    "> Para compreender a evoluação humana em Python, podemos demonstrá-la colocando os anos em potências de base 10 para facilitar a observação.\n",
    "\n",
    "> Nos exemplos a seguir, estamos tentando descobrir a qual gênero pertence a incógnita y. \n",
    "\n",
    "## Usando if, elif e else"
   ]
  },
  {
   "cell_type": "markdown",
   "id": "78a011cd",
   "metadata": {},
   "source": [
    "Exemplo 1"
   ]
  },
  {
   "cell_type": "code",
   "execution_count": 14,
   "id": "30745e0f",
   "metadata": {},
   "outputs": [
    {
     "name": "stdout",
     "output_type": "stream",
     "text": [
      "Homo erectus\n"
     ]
    }
   ],
   "source": [
    "y = 1.2*10**6\n",
    "\n",
    "if y <= 4.2*10**6 and y >= 3.9*10**6:\n",
    "    print('Australopithecus')\n",
    "    \n",
    "elif y < 3.8*10**6 and y > 3*10**6:\n",
    "    print('Australopithecus afarensis')  \n",
    "    \n",
    "elif y < 2.2*10**6 and y > 1.6*10**6:\n",
    "    print('Homo habilis')\n",
    "    \n",
    "elif y < 2*10**6 and y > 400*10**3:\n",
    "    print('Homo erectus')\n",
    "    \n",
    "elif y < 400*10**3 and y > 200*10**3:\n",
    "    print('Homo Sapiens')\n",
    "    \n",
    "else:\n",
    "    print('Homo Sapiens Sapiens')"
   ]
  },
  {
   "cell_type": "markdown",
   "id": "a5bb7f5b",
   "metadata": {},
   "source": [
    "Exemplo 2"
   ]
  },
  {
   "cell_type": "code",
   "execution_count": 15,
   "id": "5ff178d6",
   "metadata": {},
   "outputs": [
    {
     "name": "stdout",
     "output_type": "stream",
     "text": [
      "Australopithecus afarensis\n"
     ]
    }
   ],
   "source": [
    "y = 3.6*10**6\n",
    "\n",
    "if y <= 4.2*10**6 and y >= 3.9*10**6:\n",
    "    print('Australopithecus')\n",
    "    \n",
    "elif y < 3.8*10**6 and y > 3*10**6:\n",
    "    print('Australopithecus afarensis')  \n",
    "    \n",
    "elif y < 2.2*10**6 and y > 1.6*10**6:\n",
    "    print('Homo habilis')\n",
    "    \n",
    "elif y < 2*10**6 and y > 400*10**3:\n",
    "    print('Homo erectus')\n",
    "    \n",
    "elif y < 400*10**3 and y > 200*10**3:\n",
    "    print('Homo Sapiens')\n",
    "    \n",
    "else:\n",
    "    print('Homo Sapiens Sapiens')"
   ]
  },
  {
   "cell_type": "markdown",
   "id": "6742dda9",
   "metadata": {},
   "source": [
    "Exemplo 3"
   ]
  },
  {
   "cell_type": "code",
   "execution_count": 16,
   "id": "e7a4a162",
   "metadata": {},
   "outputs": [
    {
     "name": "stdout",
     "output_type": "stream",
     "text": [
      "Homo Sapiens Sapiens\n"
     ]
    }
   ],
   "source": [
    "y = 120*10**3\n",
    "\n",
    "if y <= 4.2*10**6 and y >= 3.9*10**6:\n",
    "    print('Australopithecus')\n",
    "    \n",
    "elif y < 3.8*10**6 and y > 3*10**6:\n",
    "    print('Australopithecus afarensis')  \n",
    "    \n",
    "elif y < 2.2*10**6 and y > 1.6*10**6:\n",
    "    print('Homo habilis')\n",
    "    \n",
    "elif y < 2*10**6 and y > 400*10**3:\n",
    "    print('Homo erectus')\n",
    "    \n",
    "elif y < 400*10**3 and y > 200*10**3:\n",
    "    print('Homo Sapiens')\n",
    "    \n",
    "else:\n",
    "    print('Homo Sapiens Sapiens')"
   ]
  },
  {
   "cell_type": "markdown",
   "id": "9be95dbc",
   "metadata": {},
   "source": [
    "Essa é apenas uma das formas para exemplificar dados em Python. A associação de dados (nesse caso, anos) é necessária para identificar e encontrar a incógnita (o valor) requerido. \n"
   ]
  },
  {
   "cell_type": "markdown",
   "id": "efcc7774",
   "metadata": {},
   "source": [
    "## Chamando funções para definir algumas características da evolução do Gênero Homo"
   ]
  },
  {
   "cell_type": "markdown",
   "id": "cac52d7e",
   "metadata": {},
   "source": [
    "> Na Biologia, além de saber a que período cada espécie está, também é importante diferenciar as características de cada uma. Para isso, é possível utilizar funções conforme os exemplos a seguir:\n",
    "\n",
    "## Usando def"
   ]
  },
  {
   "cell_type": "markdown",
   "id": "59c5b0c0",
   "metadata": {},
   "source": [
    "Exemplo 1"
   ]
  },
  {
   "cell_type": "code",
   "execution_count": 83,
   "id": "2cc427ce",
   "metadata": {},
   "outputs": [
    {
     "name": "stdout",
     "output_type": "stream",
     "text": [
      "Homo habilis\n"
     ]
    }
   ],
   "source": [
    "def espécieMaisAntiga():   #Qual é a espécie mais antiga do Gênero Homo?\n",
    "   print('Homo habilis')\n",
    "espécieMaisAntiga()"
   ]
  },
  {
   "cell_type": "markdown",
   "id": "b9ff4c6e",
   "metadata": {},
   "source": [
    "Exemplo 2"
   ]
  },
  {
   "cell_type": "code",
   "execution_count": 85,
   "id": "b9f041a2",
   "metadata": {},
   "outputs": [
    {
     "name": "stdout",
     "output_type": "stream",
     "text": [
      "Homo rudolfensis e Homo habilis\n"
     ]
    }
   ],
   "source": [
    "def duasEspéciesQueCoexistiramHáDoisMilhõesDeAnosAtrás(): #Duas espécies que coexistiram há 2 milhões de anos atrás\n",
    "    print('Homo rudolfensis e Homo habilis')\n",
    "duasEspéciesQueCoexistiramHáDoisMilhõesDeAnosAtrás()"
   ]
  },
  {
   "cell_type": "markdown",
   "id": "b7994b25",
   "metadata": {},
   "source": [
    "Exemplo 3"
   ]
  },
  {
   "cell_type": "code",
   "execution_count": 86,
   "id": "a1564a49",
   "metadata": {},
   "outputs": [
    {
     "name": "stdout",
     "output_type": "stream",
     "text": [
      "Homo erectus\n"
     ]
    }
   ],
   "source": [
    "def dobroDoTamanhoDoCrânioEmRelaçãoAoHomohabilis():  #Qual Homo possui o dobro do tamanho do crânio em relação ao Homo habilis?\n",
    "    print('Homo erectus')\n",
    "dobroDoTamanhoDoCrânioEmRelaçãoAoHomohabilis()"
   ]
  },
  {
   "cell_type": "markdown",
   "id": "fd30849a",
   "metadata": {},
   "source": [
    "## Usando True or False"
   ]
  },
  {
   "cell_type": "markdown",
   "id": "750d7eea",
   "metadata": {},
   "source": [
    "Exemplo 1"
   ]
  },
  {
   "cell_type": "code",
   "execution_count": 91,
   "id": "15d11210",
   "metadata": {},
   "outputs": [
    {
     "data": {
      "text/plain": [
       "True"
      ]
     },
     "execution_count": 91,
     "metadata": {},
     "output_type": "execute_result"
    }
   ],
   "source": [
    "x = 300*10**3\n",
    "def imprimeHomoSapiens(x):\n",
    "    if 200*10**3 < x < 400*10**3:\n",
    "        resposta = True\n",
    "    else:\n",
    "        resposta = False\n",
    "    return resposta\n",
    "imprimeHomoSapiens(x)"
   ]
  },
  {
   "cell_type": "markdown",
   "id": "56203924",
   "metadata": {},
   "source": [
    "Exemplo 2"
   ]
  },
  {
   "cell_type": "code",
   "execution_count": 93,
   "id": "3e7c4cd4",
   "metadata": {},
   "outputs": [
    {
     "data": {
      "text/plain": [
       "False"
      ]
     },
     "execution_count": 93,
     "metadata": {},
     "output_type": "execute_result"
    }
   ],
   "source": [
    "x = 600*10**3\n",
    "def imprimeHomoSapiens(x):\n",
    "    if 200*10**3 < x < 400*10**3:\n",
    "        resposta = True\n",
    "    else:\n",
    "        resposta = False\n",
    "    return resposta  \n",
    "imprimeHomoSapiens(x)"
   ]
  },
  {
   "cell_type": "markdown",
   "id": "579c84bd",
   "metadata": {},
   "source": [
    "## Conclusão\n",
    "É possível utilizar o Python e as ferramentas de programação de diferentes maneiras para estudar biologia (o contrário também), conforme demonstramos nesse notebook. Existem diversas possibilidades, e uma delas, conforme fizemos, é demonstrar dados que antes estavam em texto em códigos na linguagem python."
   ]
  },
  {
   "cell_type": "markdown",
   "id": "1adf2399",
   "metadata": {},
   "source": [
    "## Referências\n",
    "|| [Evolução do Gênero Homo](http://www2.assis.unesp.br/darwinnobrasil/humanev2b.htm)"
   ]
  },
  {
   "cell_type": "code",
   "execution_count": 94,
   "id": "35c2503c",
   "metadata": {},
   "outputs": [
    {
     "data": {
      "image/jpeg": "[encoded data removed]",
      "text/html": [
       "\n",
       "        <iframe\n",
       "            width=\"400\"\n",
       "            height=\"300\"\n",
       "            src=\"https://www.youtube.com/embed/_cXlbs2L_lw\"\n",
       "            frameborder=\"0\"\n",
       "            allowfullscreen\n",
       "            \n",
       "        ></iframe>\n",
       "        "
      ],
      "text/plain": [
       "<IPython.lib.display.YouTubeVideo at 0x240647bfd00>"
      ]
     },
     "execution_count": 94,
     "metadata": {},
     "output_type": "execute_result"
    }
   ],
   "source": [
    "from IPython.display import YouTubeVideo\n",
    "YouTubeVideo ('_cXlbs2L_lw')"
   ]
  }
 ],
 "metadata": {
  "kernelspec": {
   "display_name": "Python 3 (ipykernel)",
   "language": "python",
   "name": "python3"
  },
  "language_info": {
   "codemirror_mode": {
    "name": "ipython",
    "version": 3
   },
   "file_extension": ".py",
   "mimetype": "text/x-python",
   "name": "python",
   "nbconvert_exporter": "python",
   "pygments_lexer": "ipython3",
   "version": "3.9.13"
  }
 },
 "nbformat": 4,
 "nbformat_minor": 5
}
