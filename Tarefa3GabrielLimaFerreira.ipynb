{
  "nbformat": 4,
  "nbformat_minor": 0,
  "metadata": {
    "colab": {
      "provenance": [],
      "collapsed_sections": [],
      "authorship_tag": "ABX9TyOhv+TzXqDrwwvx5iC2jq7a",
      "include_colab_link": true
    },
    "kernelspec": {
      "name": "python3",
      "display_name": "Python 3"
    },
    "language_info": {
      "name": "python"
    }
  },
  "cells": [
    {
      "cell_type": "markdown",
      "metadata": {
        "id": "view-in-github",
        "colab_type": "text"
      },
      "source": [
        "<a href=\"https://colab.research.google.com/github/gabriel-lima-UFABC/BCC-Base/blob/master/Tarefa3GabrielLimaFerreira.ipynb\" target=\"_parent\"><img src=\"https://colab.research.google.com/assets/colab-badge.svg\" alt=\"Open In Colab\"/></a>"
      ]
    },
    {
      "cell_type": "markdown",
      "source": [
        "**Nome:** Gabriel Lima Ferreira"
      ],
      "metadata": {
        "id": "YvC8VQY5CIA1"
      }
    },
    {
      "cell_type": "code",
      "execution_count": 1,
      "metadata": {
        "colab": {
          "base_uri": "https://localhost:8080/"
        },
        "id": "vSYRdypeB5MY",
        "outputId": "e2f45590-37ca-41e7-d31d-623205a132e6"
      },
      "outputs": [
        {
          "output_type": "stream",
          "name": "stdout",
          "text": [
            "90.0\n",
            "720\n",
            "1440\n"
          ]
        }
      ],
      "source": [
        "#há 60 minutos em 1 hora, portanto a função \n",
        "#retorna o valor em horas multiplicado por 60\n",
        "def hToMin(h): return h*60\n",
        "\n",
        "print(hToMin(1.5))\n",
        "print(hToMin(12))\n",
        "print(hToMin(24))"
      ]
    }
  ]
}